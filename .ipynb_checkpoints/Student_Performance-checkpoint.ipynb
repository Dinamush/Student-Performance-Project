{
 "cells": [
  {
   "cell_type": "code",
   "execution_count": 1,
   "id": "647254cb-aeec-4c58-a083-4a1932df340a",
   "metadata": {},
   "outputs": [
    {
     "data": {
      "text/plain": [
       "'C:\\\\Users\\\\sm94c\\\\Documents\\\\Data Science Projects\\\\Student Performance\\\\student+performance\\\\student'"
      ]
     },
     "execution_count": 1,
     "metadata": {},
     "output_type": "execute_result"
    }
   ],
   "source": [
    "import os\n",
    "\n",
    "os.chdir(\"C:/Users/sm94c/Documents/Data Science Projects/Student Performance/student+performance/student\")\n",
    "os.getcwd()\n"
   ]
  },
  {
   "cell_type": "code",
   "execution_count": 2,
   "id": "273c7164-5f91-4d52-acc9-90df95afa922",
   "metadata": {},
   "outputs": [
    {
     "name": "stdout",
     "output_type": "stream",
     "text": [
      "this is a word\n"
     ]
    }
   ],
   "source": [
    "print('this is a word')"
   ]
  },
  {
   "cell_type": "code",
   "execution_count": null,
   "id": "403c01ac-a0ce-4d08-8a97-50b74fb0773c",
   "metadata": {},
   "outputs": [],
   "source": []
  }
 ],
 "metadata": {
  "kernelspec": {
   "display_name": "Python 3 (ipykernel)",
   "language": "python",
   "name": "python3"
  },
  "language_info": {
   "codemirror_mode": {
    "name": "ipython",
    "version": 3
   },
   "file_extension": ".py",
   "mimetype": "text/x-python",
   "name": "python",
   "nbconvert_exporter": "python",
   "pygments_lexer": "ipython3",
   "version": "3.10.9"
  }
 },
 "nbformat": 4,
 "nbformat_minor": 5
}
